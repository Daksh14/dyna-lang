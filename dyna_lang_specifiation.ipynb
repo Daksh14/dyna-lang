{
  "nbformat": 4,
  "nbformat_minor": 0,
  "metadata": {
    "colab": {
      "provenance": []
    },
    "kernelspec": {
      "name": "python3",
      "display_name": "Python 3"
    },
    "language_info": {
      "name": "python"
    }
  },
  "cells": [
    {
      "cell_type": "markdown",
      "source": [
        "# Dyna lang specification\n",
        "\n",
        "The dyna lang is a language inspired from the rust programming language and extends upon its syntax the rust syntax is not defined in a particular spec but `rustc` remains the offical implementaion of it\n",
        "\n",
        "# Statement\n",
        "A statement by default is immutable and variables are defined by `let` keyword\n",
        "\n",
        "```rust\n",
        "let variable_name = String::new();\n",
        "// mutable variables are declared with mut\n",
        "let mut variable_mutable = String:from(\"Hello\");\n",
        "\n",
        "// semicolon is not needed when the statement is being returned\n",
        "let variable = if true {\n",
        "  String::new()\n",
        "} else {\n",
        "  String::from(\"false\")\n",
        "}\n",
        "```\n",
        "\n",
        "The variable cannot be mutated unless its declared with the `mut` keyword the compiler should detect if mutable referneces are passed using type checker\n",
        "\n",
        "# Basic Pattern matching and user defined types\n",
        "\n",
        "```rust\n",
        "// enumeration is a user defined type structs can be also used\n",
        "enum T {\n",
        "  Some(String),\n",
        "  None,\n",
        "}\n",
        "\n",
        "let var = T::None;\n",
        "\n",
        "match var {\n",
        "  T::Some(string) => println(string),\n",
        "  T::None => (),\n",
        "}\n",
        "```\n",
        "\n",
        "# Function deceleration\n",
        "\n",
        "```rust\n",
        "// The type of the argument is defined by the colon `:`\n",
        "fn name_of_function(mut arg: String) -> String {\n",
        "  arg.push(\"value\");\n",
        "}\n",
        "```\n",
        "\n",
        "# Array deceleration\n",
        "\n",
        "Declare compile-time arrays using the following syntax, the type of the array should be defined as type-inference is not implemented in the language without a type an error will be thrown\n",
        "\n",
        "```rust\n",
        "let array: &[u8] = [1, 2, 3, 4];\n",
        "```\n",
        "\n",
        "# Type checking\n",
        "\n",
        "The type checker will check if the types are correct or not to prevent error, no type theory is used and contravirant and variant types are not handeled only conrete type ids are compared\n",
        "\n",
        "```rust\n",
        "fn name_of_function(mut arg: String) -> String {\n",
        "  arg.push(\"value\");\n",
        "}\n",
        "\n",
        "let array: &[u8] = [1, 2, 3, 4];\n",
        "// error: Expected a String found &[u8]\n",
        "name_of_function(array)\n",
        "```\n",
        "\n",
        "This is a rough sketch of the dyna language made by Daksh Upadhyay but this should be enough feature for the MVP of the compiler or the beta version of the compier for dyna"
      ],
      "metadata": {
        "id": "ieSu18Y5aoI3"
      }
    },
    {
      "cell_type": "code",
      "source": [],
      "metadata": {
        "id": "ZfeU3hDcdszl"
      },
      "execution_count": null,
      "outputs": []
    }
  ]
}